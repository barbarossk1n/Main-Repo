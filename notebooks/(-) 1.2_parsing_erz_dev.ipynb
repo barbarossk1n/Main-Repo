{
 "cells": [
  {
   "cell_type": "markdown",
   "metadata": {},
   "source": [
    "### Предподготовка: подключение к скриптам в других папках"
   ]
  },
  {
   "cell_type": "markdown",
   "metadata": {},
   "source": [
    "#### Активация прогрузки скриптов из папок"
   ]
  },
  {
   "cell_type": "code",
   "execution_count": 1,
   "metadata": {},
   "outputs": [],
   "source": [
    "import os\n",
    "import sys\n",
    "import dotenv\n",
    "\n",
    "# Загружаем переменные окружения из .env\n",
    "dotenv.load_dotenv('paths.env')\n",
    "\n",
    "# Добавляем PYTHONPATH в системный путь\n",
    "for path in os.getenv(\"PYTHONPATH\").split(\":\"):\n",
    "    sys.path.append(os.path.abspath(path))"
   ]
  },
  {
   "cell_type": "markdown",
   "metadata": {},
   "source": [
    "#### Импорт необходимых скриптов"
   ]
  },
  {
   "cell_type": "code",
   "execution_count": 2,
   "metadata": {},
   "outputs": [],
   "source": [
    "# Прогрузка скрипта для возможности сохранять файлы в нужном формате + нужной директории\n",
    "from data.load_data import *"
   ]
  },
  {
   "cell_type": "code",
   "execution_count": null,
   "metadata": {},
   "outputs": [],
   "source": [
    "# Выгрузка необходимых библиотек\n",
    "from utils.libraries_apply import *\n",
    "\n",
    "# Прогрузка параметров для парсинга (список элементов, которые надо выгружать с сайта ЕРЗ)\n",
    "from utils.parameters_erz import *\n",
    "\n",
    "# Прогрузка класса парсинга сайта ЕРЗ\n",
    "from utils.parsing_erz import *"
   ]
  },
  {
   "cell_type": "markdown",
   "metadata": {},
   "source": [
    "#### Выгрузка и сохранение в формате .csv + ссылки для парсинга\n",
    "На данный момент намного проще и быстрее залогиниться на сайте ЕРЗ вручную, а затем выгрузить список топ-ЖК с ссылками на них, файл при скачивании называем \"top_zhk_@дата_на_которую_был_составлен_рейтинг\""
   ]
  },
  {
   "cell_type": "code",
   "execution_count": 4,
   "metadata": {},
   "outputs": [],
   "source": [
    "path_notebooks = os.getcwd()\n",
    "path_data_download = path_notebooks.replace('notebooks', 'data/raw')"
   ]
  },
  {
   "cell_type": "code",
   "execution_count": 5,
   "metadata": {},
   "outputs": [],
   "source": [
    "# Поскольку пока что не настроен автоматический парсинг топ ЖК, \n",
    "# он выгружается вручную, а после выгружается сама таблица для последующей обработки\n",
    "name_file = path_data_download + '/top_zhk_31.10.2024.xlsx'"
   ]
  },
  {
   "cell_type": "code",
   "execution_count": 6,
   "metadata": {},
   "outputs": [
    {
     "name": "stderr",
     "output_type": "stream",
     "text": [
      "/Library/Frameworks/Python.framework/Versions/3.12/lib/python3.12/site-packages/openpyxl/styles/stylesheet.py:237: UserWarning: Workbook contains no default style, apply openpyxl's default\n",
      "  warn(\"Workbook contains no default style, apply openpyxl's default\")\n"
     ]
    },
    {
     "name": "stdout",
     "output_type": "stream",
     "text": [
      "Файл успешно сохранён как CSV: /Users/leonbah/Desktop/Python/ВКРС/Main Repo/data/raw/top_zhk_31.10.2024.csv\n"
     ]
    }
   ],
   "source": [
    "from openpyxl import load_workbook\n",
    "import csv\n",
    "\n",
    "# Выгрузка файла\n",
    "wb = load_workbook(name_file)\n",
    "ws = wb.active\n",
    "\n",
    "# Путь сохранения файла в формате .csv\n",
    "csv_file_path = path_data_download + '/top_zhk_31.10.2024.csv'\n",
    "\n",
    "# Открываем CSV файл для записи с UTF-8\n",
    "with open(csv_file_path, 'w', encoding='utf-8', newline='') as csv_file:\n",
    "    csv_writer = csv.writer(csv_file)\n",
    "\n",
    "    # Пробегаемся по всем строкам и обрабатываем ячейки\n",
    "    for row in ws.iter_rows():\n",
    "        row_data = []\n",
    "        for cell in row:\n",
    "            # Проверяем на наличие гиперссылки\n",
    "            try:\n",
    "                if cell.hyperlink and cell.hyperlink.target:\n",
    "                    # Если есть гиперссылка, добавляем её к значению ячейки\n",
    "                    cell_value = f'{cell.value or ''} | {cell.hyperlink.target}'\n",
    "                else:\n",
    "                    cell_value = cell.value\n",
    "            except:\n",
    "                # Обработка ошибок на случай пустых значений\n",
    "                cell_value = cell.value  \n",
    "            \n",
    "            # Добавляем значение в текущую строку\n",
    "            row_data.append(cell_value)\n",
    "        \n",
    "        # Записываем строку в CSV файл\n",
    "        csv_writer.writerow(row_data)\n",
    "        \n",
    "print(f'Файл успешно сохранён как CSV: {csv_file_path}')\n"
   ]
  },
  {
   "cell_type": "code",
   "execution_count": 7,
   "metadata": {},
   "outputs": [],
   "source": [
    "# Проверяем последством выгрузки\n",
    "top_zhk = pd.read_csv(csv_file_path)\n",
    "\n",
    "hyper = (top_zhk['Наименование ЖК'].str.rsplit(\" | \", expand=True))\n",
    "hyper.columns = ['Наименование ЖК', 'Ссылки']\n",
    "\n",
    "top_zhk['Наименование ЖК'] = hyper['Наименование ЖК']\n",
    "top_zhk['Ссылки'] = hyper['Ссылки']"
   ]
  },
  {
   "cell_type": "markdown",
   "metadata": {},
   "source": [
    "### Запуск парсинга"
   ]
  },
  {
   "cell_type": "markdown",
   "metadata": {},
   "source": [
    "#### Парсинг застройщиков  \n",
    "Код на доработке, поскольку допускаются ошибки при выгрузке, которые не в явном виде и которые сложно отследить"
   ]
  },
  {
   "cell_type": "code",
   "execution_count": 8,
   "metadata": {},
   "outputs": [],
   "source": [
    "# ---"
   ]
  },
  {
   "cell_type": "markdown",
   "metadata": {},
   "source": [
    "#### Парсинг ЖК"
   ]
  },
  {
   "cell_type": "code",
   "execution_count": 9,
   "metadata": {},
   "outputs": [],
   "source": [
    "# Создание словаря {'Наименование ЖК': 'ссылка на ЕРЗ сайт'}\n",
    "zhk_links = {}\n",
    "for i in range(len(top_zhk)):\n",
    "    zhk_links[top_zhk['Наименование ЖК'][i]] = top_zhk['Ссылки'][i]\n",
    "    \n",
    "# Отдельные параметры, на которые стоит обращать внимание\n",
    "range_parameters = range(6, 24)\n",
    "# parameters_box = \"//div[@class='flex m-t-10 ng-tns-c62-{} ng-trigger ng-trigger-fade ng-star-inserted']\"\n",
    "labels_box = \"//div[@class='left-column flex flex-middle']\"\n",
    "values_box = \"//div[@class='f-b-35 descr']\""
   ]
  },
  {
   "cell_type": "code",
   "execution_count": null,
   "metadata": {},
   "outputs": [],
   "source": [
    "def parsing_page(link: str, name_estate: str) -> dict:\n",
    "    \n",
    "    # Инициируем настройки для хрома\n",
    "    chrome_options = Options()\n",
    "     \n",
    "    chrome_options.add_argument(\"--headless=new\")  # <-- Фоновый режим\n",
    "    chrome_options.add_argument(\"--disable-gpu\")   # <-- Отключение GPU (для headless)\n",
    "    chrome_options.add_argument(\"--no-sandbox\")    # <-- Отключение sandbox (для некоторых систем)\n",
    "    \n",
    "    # Устанавливаем/обновляем хром-драйвер, если надо + встраиваем настройки браузера\n",
    "    service = ChromeService(ChromeDriverManager().install())\n",
    "    driver = webdriver.Chrome(service = service, options = chrome_options)\n",
    "    \n",
    "    # Отправляем запрос на запуск функции\n",
    "    driver.get(link)\n",
    "    wait = WebDriverWait(driver, 10)\n",
    "    \n",
    "    # Запуск кода для визуальной проверки структуры сайта\n",
    "    # html = driver.page_source\n",
    "    # soup = BeautifulSoup(html, 'html.parser')\n",
    "    # print(BeautifulSoup.prettify(soup))\n",
    "    \n",
    "    try:\n",
    "        \n",
    "        # Поиск наименований потенциальных параметров ЖК\n",
    "        labels_list = wait.until(EC.presence_of_all_elements_located((By.XPATH, labels_box)))\n",
    "        labels_text_list = [el.text for el in labels_list]\n",
    "        \n",
    "        # Поиск значений потенциальных параметров ЖК\n",
    "        values_list = wait.until(EC.presence_of_all_elements_located((By.XPATH, values_box)))\n",
    "        values_text_list = [el.text for el in values_list]\n",
    "        \n",
    "        # Создание словаря параметров ЖК\n",
    "        parameters = {}\n",
    "        for i in range(len(labels_text_list)):\n",
    "            parameters[labels_text_list[i]] = values_text_list[i]\n",
    "\n",
    "        print(name_estate)\n",
    "        \n",
    "    except:\n",
    "        parameters = {}\n",
    "        print(name_estate, '<-- на уровне браузера')\n",
    "        \n",
    "    return parameters"
   ]
  },
  {
   "cell_type": "code",
   "execution_count": null,
   "metadata": {},
   "outputs": [],
   "source": [
    "# Выгрузка класса парсинга для ЖК\n",
    "parsing_class = Parsing\n",
    "\n",
    "# Запуск цикла по парсингу каждой ссылки ЖК\n",
    "for zhk_name in zhk_links:\n",
    "    sp = parsing_class._process_retry(parsing_class._link_get, zhk_links[zhk_name])\n",
    "    \n",
    "    "
   ]
  },
  {
   "cell_type": "code",
   "execution_count": null,
   "metadata": {},
   "outputs": [],
   "source": [
    "\n",
    "\n"
   ]
  },
  {
   "cell_type": "code",
   "execution_count": null,
   "metadata": {},
   "outputs": [],
   "source": []
  }
 ],
 "metadata": {
  "kernelspec": {
   "display_name": "Python 3",
   "language": "python",
   "name": "python3"
  },
  "language_info": {
   "codemirror_mode": {
    "name": "ipython",
    "version": 3
   },
   "file_extension": ".py",
   "mimetype": "text/x-python",
   "name": "python",
   "nbconvert_exporter": "python",
   "pygments_lexer": "ipython3",
   "version": "3.12.4"
  }
 },
 "nbformat": 4,
 "nbformat_minor": 2
}
