{
 "cells": [
  {
   "cell_type": "markdown",
   "metadata": {},
   "source": [
    "### Предподготовка: установка необходимых библиотек"
   ]
  },
  {
   "cell_type": "code",
   "execution_count": null,
   "metadata": {},
   "outputs": [],
   "source": [
    "import subprocess\n",
    "\n",
    "# Путь к файлу requirements.txt\n",
    "requirements_path = '../requirements.txt'\n",
    "\n",
    "# Автоматическая установка библиотек через pip\n",
    "subprocess.check_call(['pip', 'install', '-r', requirements_path, '-q'])"
   ]
  },
  {
   "cell_type": "code",
   "execution_count": null,
   "metadata": {},
   "outputs": [],
   "source": [
    "import os\n",
    "import sys\n",
    "import dotenv\n",
    "\n",
    "# Загружаем переменные окружения из .env\n",
    "dotenv.load_dotenv()\n",
    "\n",
    "# Добавляем PYTHONPATH в системный путь\n",
    "for path in os.getenv(\"PYTHONPATH\").split(\":\"):\n",
    "    sys.path.append(os.path.abspath(path))"
   ]
  }
 ],
 "metadata": {
  "kernelspec": {
   "display_name": "Python 3",
   "language": "python",
   "name": "python3"
  },
  "language_info": {
   "codemirror_mode": {
    "name": "ipython",
    "version": 3
   },
   "file_extension": ".py",
   "mimetype": "text/x-python",
   "name": "python",
   "nbconvert_exporter": "python",
   "pygments_lexer": "ipython3",
   "version": "3.12.4"
  }
 },
 "nbformat": 4,
 "nbformat_minor": 2
}
